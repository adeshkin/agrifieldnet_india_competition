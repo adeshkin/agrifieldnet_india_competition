{
 "cells": [
  {
   "cell_type": "code",
   "execution_count": 1,
   "id": "3ea6356e",
   "metadata": {},
   "outputs": [
    {
     "name": "stderr",
     "output_type": "stream",
     "text": [
      "1165it [01:08, 17.01it/s]\n",
      "1165it [00:26, 44.50it/s]\n",
      "707it [00:16, 43.82it/s]\n"
     ]
    }
   ],
   "source": [
    "from prepare_data import prepare_data, crop_id2name\n",
    "\n",
    "\n",
    "bands = ['B01', 'B02', 'B03', 'B04', 'B05', 'B06', 'B07', 'B08', 'B8A', 'B09', 'B11', 'B12']\n",
    "train_data, field_crop_pair, test_data = prepare_data(bands)"
   ]
  },
  {
   "cell_type": "code",
   "execution_count": 2,
   "id": "d9e99bf8",
   "metadata": {},
   "outputs": [],
   "source": [
    "import pandas as pd\n",
    "\n",
    "train_data_grouped = train_data.groupby(['field_id']).mean().reset_index()\n",
    "train_data_grouped.field_id = [str(int(i)) for i in train_data_grouped.field_id.values]\n",
    "train_df = pd.merge(train_data_grouped, field_crop_pair, on='field_id')\n",
    "\n",
    "test_data_grouped = test_data.groupby(['field_id']).mean().reset_index()\n",
    "test_data_grouped.field_id = [str(int(i)) for i in test_data_grouped.field_id.values]"
   ]
  },
  {
   "cell_type": "code",
   "execution_count": 3,
   "id": "2a27cc4a",
   "metadata": {},
   "outputs": [],
   "source": [
    "from sklearn.preprocessing import LabelEncoder\n",
    "\n",
    "le = LabelEncoder()\n",
    "\n",
    "X = train_df.drop(['field_id', 'crop_id'], axis=1).to_numpy()\n",
    "y = le.fit_transform(train_df['crop_id'].to_numpy())\n",
    "\n",
    "X_test = test_data_grouped.drop('field_id', axis=1).to_numpy()\n",
    "field_id_test = test_data_grouped.field_id.to_numpy()"
   ]
  },
  {
   "cell_type": "code",
   "execution_count": 4,
   "id": "13d3fa7b",
   "metadata": {},
   "outputs": [],
   "source": [
    "from sklearn.ensemble import RandomForestClassifier\n",
    "from sklearn.tree import DecisionTreeClassifier\n",
    "from sklearn.neural_network import MLPClassifier\n",
    "from sklearn.neighbors import KNeighborsClassifier\n",
    "from xgboost import XGBClassifier\n",
    "from lightgbm import LGBMClassifier\n",
    "\n",
    "from sklearn.model_selection import GridSearchCV"
   ]
  },
  {
   "cell_type": "code",
   "execution_count": 5,
   "id": "eb337eb0",
   "metadata": {},
   "outputs": [
    {
     "name": "stdout",
     "output_type": "stream",
     "text": [
      "-1.386769568659965\n",
      "{'max_depth': 3, 'n_estimators': 90}\n"
     ]
    }
   ],
   "source": [
    "clf = RandomForestClassifier(random_state=42)\n",
    "param_grid = {'n_estimators': [30, 60, 90],\n",
    "              'max_depth': [3, 5, 7, 9]}\n",
    "\n",
    "clf_cv = GridSearchCV(estimator=clf,\n",
    "                      param_grid=param_grid, \n",
    "                      scoring='neg_log_loss',\n",
    "                      cv=4,\n",
    "                      verbose=False)\n",
    "clf_cv.fit(X, y)\n",
    "print(clf_cv.best_score_)\n",
    "print(clf_cv.best_params_)\n",
    "\n",
    "clf0 = RandomForestClassifier(**clf_cv.best_params_,\n",
    "                             random_state=42)\n",
    "clf0.fit(X, y);"
   ]
  },
  {
   "cell_type": "code",
   "execution_count": 6,
   "id": "f4c75466",
   "metadata": {},
   "outputs": [
    {
     "name": "stdout",
     "output_type": "stream",
     "text": [
      "-1.4810689957732235\n",
      "{'ccp_alpha': 0.1, 'criterion': 'entropy', 'max_depth': 6, 'max_features': 'sqrt'}\n"
     ]
    }
   ],
   "source": [
    "clf = DecisionTreeClassifier(random_state=42)\n",
    "\n",
    "param_grid = {'criterion':['gini', 'entropy'],\n",
    "              'max_features': ['sqrt', 'log2'],\n",
    "              'ccp_alpha': [0.1, .01, .001],\n",
    "              'max_depth': [3, 5, 6, 7, 9]}\n",
    "\n",
    "clf_cv = GridSearchCV(estimator=clf,\n",
    "                      param_grid=param_grid,\n",
    "                      cv=4,\n",
    "                      scoring='neg_log_loss',\n",
    "                      verbose=False)\n",
    "clf_cv.fit(X, y)\n",
    "print(clf_cv.best_score_)\n",
    "print(clf_cv.best_params_)\n",
    "\n",
    "clf1 = DecisionTreeClassifier(**clf_cv.best_params_,\n",
    "                             random_state=42)\n",
    "clf1.fit(X, y);"
   ]
  },
  {
   "cell_type": "code",
   "execution_count": 7,
   "id": "a8051c6f",
   "metadata": {},
   "outputs": [
    {
     "name": "stdout",
     "output_type": "stream",
     "text": [
      "-1.4830928494679942\n",
      "{'hidden_layer_sizes': 300, 'max_iter': 500, 'solver': 'sgd'}\n"
     ]
    }
   ],
   "source": [
    "clf = MLPClassifier(random_state=42)\n",
    "\n",
    "param_grid = {'hidden_layer_sizes': [300, 400, 500],\n",
    "              'solver': ['sgd', 'adam'],\n",
    "              'max_iter': [500]}\n",
    "\n",
    "clf_cv = GridSearchCV(estimator=clf,\n",
    "                      param_grid=param_grid, \n",
    "                      scoring='neg_log_loss',\n",
    "                      cv=4,\n",
    "                      verbose=False)\n",
    "clf_cv.fit(X, y)\n",
    "print(clf_cv.best_score_)\n",
    "print(clf_cv.best_params_)\n",
    "\n",
    "clf2 = MLPClassifier(**clf_cv.best_params_,\n",
    "                             random_state=42)\n",
    "clf2.fit(X, y);"
   ]
  },
  {
   "cell_type": "code",
   "execution_count": 8,
   "id": "0035416c",
   "metadata": {},
   "outputs": [
    {
     "name": "stdout",
     "output_type": "stream",
     "text": [
      "-1.4268215941363347\n",
      "{'n_neighbors': 750}\n"
     ]
    }
   ],
   "source": [
    "clf = KNeighborsClassifier()\n",
    "\n",
    "param_grid = {'n_neighbors': [650, 700, 750]}\n",
    "\n",
    "clf_cv = GridSearchCV(estimator=clf,\n",
    "                      param_grid=param_grid, \n",
    "                      scoring='neg_log_loss',\n",
    "                      cv=4,\n",
    "                      verbose=False)\n",
    "clf_cv.fit(X, y)\n",
    "print(clf_cv.best_score_)\n",
    "print(clf_cv.best_params_)\n",
    "\n",
    "clf3 = KNeighborsClassifier(**clf_cv.best_params_)\n",
    "clf3.fit(X, y);"
   ]
  },
  {
   "cell_type": "code",
   "execution_count": 9,
   "id": "283775ff",
   "metadata": {},
   "outputs": [
    {
     "name": "stdout",
     "output_type": "stream",
     "text": [
      "-1.5661601413949027\n",
      "{'learning_rate': 0.05, 'max_depth': 3, 'n_estimators': 50}\n"
     ]
    }
   ],
   "source": [
    "clf = XGBClassifier(random_state=42)\n",
    "\n",
    "param_grid = {'max_depth': [3, 5, 7],\n",
    "              'n_estimators': [50, 100],\n",
    "              'learning_rate': [0.1, 0.01, 0.05]}\n",
    "\n",
    "clf_cv = GridSearchCV(estimator=clf,\n",
    "                      param_grid=param_grid, \n",
    "                      scoring='neg_log_loss',\n",
    "                      cv=4,\n",
    "                      verbose=False)\n",
    "clf_cv.fit(X, y)\n",
    "print(clf_cv.best_score_)\n",
    "print(clf_cv.best_params_)\n",
    "\n",
    "clf4 = XGBClassifier(**clf_cv.best_params_, random_state=42)\n",
    "clf4.fit(X, y);"
   ]
  },
  {
   "cell_type": "code",
   "execution_count": 10,
   "id": "d61a3eda",
   "metadata": {},
   "outputs": [
    {
     "name": "stdout",
     "output_type": "stream",
     "text": [
      "-1.3687950898579901\n",
      "{'learning_rate': 0.01, 'max_depth': 4, 'n_estimators': 70}\n"
     ]
    }
   ],
   "source": [
    "clf = LGBMClassifier(random_state=42)\n",
    "\n",
    "param_grid = {'max_depth': [3, 4, 5],\n",
    "              'n_estimators': [70, 100, 130],\n",
    "              'learning_rate': [0.1, 0.01, 0.05]}\n",
    "\n",
    "clf_cv = GridSearchCV(estimator=clf,\n",
    "                      param_grid=param_grid, \n",
    "                      scoring='neg_log_loss',\n",
    "                      cv=4,\n",
    "                      verbose=False)\n",
    "clf_cv.fit(X, y)\n",
    "print(clf_cv.best_score_)\n",
    "print(clf_cv.best_params_)\n",
    "\n",
    "clf5 = LGBMClassifier(**clf_cv.best_params_, random_state=42)\n",
    "clf5.fit(X, y);"
   ]
  },
  {
   "cell_type": "code",
   "execution_count": 35,
   "id": "9c8d5174",
   "metadata": {},
   "outputs": [],
   "source": [
    "clfs = [clf0, clf1, clf2, clf3, clf4, clf5]\n",
    "y_test_preds = []\n",
    "for clf in clfs:\n",
    "    clf.fit(X, y)\n",
    "    y_test_preds.append(clf.predict_proba(X_test))"
   ]
  },
  {
   "cell_type": "code",
   "execution_count": 36,
   "id": "209a4739",
   "metadata": {},
   "outputs": [],
   "source": [
    "import numpy as np\n",
    "\n",
    "y_test_pred = np.stack(y_test_preds, 0).mean(0)"
   ]
  },
  {
   "cell_type": "code",
   "execution_count": 37,
   "id": "dd1a17b8",
   "metadata": {},
   "outputs": [],
   "source": [
    "crop_columns = [crop_id2name[le.inverse_transform(np.array([i]))[0]] for i in clf.classes_]\n",
    "\n",
    "test_df  = pd.DataFrame(columns= ['field_id'] + crop_columns)\n",
    "\n",
    "test_df['field_id'] = field_id_test\n",
    "test_df[crop_columns]= y_test_pred \n",
    "\n",
    "test_df.to_csv('submissions/submission.csv', index=False)"
   ]
  },
  {
   "cell_type": "code",
   "execution_count": null,
   "id": "ebe01279",
   "metadata": {},
   "outputs": [],
   "source": []
  }
 ],
 "metadata": {
  "kernelspec": {
   "display_name": "Python 3 (ipykernel)",
   "language": "python",
   "name": "python3"
  },
  "language_info": {
   "codemirror_mode": {
    "name": "ipython",
    "version": 3
   },
   "file_extension": ".py",
   "mimetype": "text/x-python",
   "name": "python",
   "nbconvert_exporter": "python",
   "pygments_lexer": "ipython3",
   "version": "3.8.13"
  }
 },
 "nbformat": 4,
 "nbformat_minor": 5
}
